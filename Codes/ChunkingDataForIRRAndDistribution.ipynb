{
 "cells": [
  {
   "cell_type": "code",
   "execution_count": 3,
   "metadata": {},
   "outputs": [],
   "source": [
    "import pandas as pd\n",
    "\n",
    "##Type name of file within the quotations,  make sure to change excel extension to csv (otherwise change this\n",
    "###document from pd.read_csv to pd.read_excel)\n",
    "filename = 'WittigPR_BySentence.csv'\n",
    "\n",
    "###preferred output file name without extension.  files will automatically be numbered\n",
    "output_filename = 'WittigPR_BySentence'\n",
    "\n",
    "##Give integer number for how many rows/lines you want per file\n",
    "rows_per_file = 300\n",
    "\n",
    "##Give number of overalapping lines for IRR, ie. overlap_lines = 30\n",
    "overlap_lines = 30\n",
    "\n",
    "\n",
    "df = pd.read_csv(filename)\n",
    "\n",
    "first_row = 0\n",
    "last_row = rows_per_file\n",
    "tot = 23318 % overlap_lines\n",
    "\n",
    "for x in range(0,tot+1):\n",
    "    \n",
    "    df.iloc[first_row:last_row,:].to_csv(output_filename+'Chunk'+str(x)+'.csv')\n",
    "    first_row=last_row-overlap_lines+1\n",
    "    last_row=first_row+300\n",
    "#df.iloc[:N, :].to_csv()"
   ]
  },
  {
   "cell_type": "code",
   "execution_count": null,
   "metadata": {},
   "outputs": [],
   "source": []
  }
 ],
 "metadata": {
  "kernelspec": {
   "display_name": "Python 3",
   "language": "python",
   "name": "python3"
  },
  "language_info": {
   "codemirror_mode": {
    "name": "ipython",
    "version": 3
   },
   "file_extension": ".py",
   "mimetype": "text/x-python",
   "name": "python",
   "nbconvert_exporter": "python",
   "pygments_lexer": "ipython3",
   "version": "3.7.6"
  }
 },
 "nbformat": 4,
 "nbformat_minor": 4
}
